{
 "cells": [
  {
   "cell_type": "code",
   "execution_count": 31,
   "metadata": {},
   "outputs": [],
   "source": [
    "import praw\n",
    "import numpy as np\n",
    "import pandas as pd\n",
    "import json\n",
    "import pickle\n",
    "import os\n",
    "from tqdm import tqdm\n",
    "from pprint import pprint\n",
    "import csv"
   ]
  },
  {
   "cell_type": "code",
   "execution_count": 34,
   "metadata": {},
   "outputs": [],
   "source": [
    "with open(\"config_local.json\", \"r\") as f:\n",
    "    data = json.load(f)\n",
    "    client_id = data[\"client_id\"]\n",
    "    client_secret = data[\"client_secret\"]\n",
    "    user_agent = data[\"user_agent\"]"
   ]
  },
  {
   "cell_type": "code",
   "execution_count": 35,
   "metadata": {},
   "outputs": [],
   "source": [
    "reddit = praw.Reddit(\n",
    "    client_id=client_id,\n",
    "    client_secret=client_secret,\n",
    "    user_agent=user_agent\n",
    ")"
   ]
  },
  {
   "cell_type": "code",
   "execution_count": 36,
   "metadata": {},
   "outputs": [],
   "source": [
    "def update_batches(filename: str, fieldname: str, value: int):\n",
    "    with open(filename, \"r\") as f:\n",
    "        data = json.load(f)\n",
    "\n",
    "    data[fieldname] = data[fieldname] + value\n",
    "\n",
    "    with open(filename, \"w\") as f:\n",
    "        json.dump(data, f)"
   ]
  },
  {
   "cell_type": "code",
   "execution_count": 54,
   "metadata": {},
   "outputs": [
    {
     "name": "stdout",
     "output_type": "stream",
     "text": [
      "Politicians\n",
      "A politician visited a village and asked what their needs were.  ”We have 2 basic needs sir,” replied the villager.  “Firstly, we have a hospital, but there’s no doctor.”  On hearing this, politician whipped out his cellphone, and after speaking for a while he reassured the village leader that the doctor would be there the next day. He then asked about the second problem.  “Secondly sir, there is no cellphone coverage anywhere in this village.”\n",
      "\n",
      "I just learned that someone in Chicago gets stabbed every 2 minutes.\n",
      "Poor guy\n",
      "\n",
      "Shortly after he got divorced...\n",
      "A friend asked Paul McCartney \"would you ever go down on one knee again?\"  \"I'd prefer if you called her Heather,\" Paul replied.\n",
      "\n",
      "A man heard that Mr. Swordy is the best swordsman in the world.\n",
      "A man heard that Mr. Swordy is the best swordsman in the world  He asked ppl where to find him and they told him he lives in Swordville. He goes there and finds a swordsman standing while a bee flying by him so he took his sword and in one swing the bee is cut into perfect two halves. The man said happily you must be Mr. Swordy but the swordsman said: “I wish, I’m nothing compared to Mr. Swordy. Go there and you might find him.” The man continues his journey and finds another swordsman while a fly flying by him. The 2nd swordsman man swings his sword and in one blow he cuts the fly into two perfect halves. The man said you’re definitely Mr. Swordy but the 2nd sowrdsman says “I wish, I’m nothing compared to Mr. Swordy. You see the guy over there, thats him” So the man goes there and while Mr. Swordy standing a mosquito flies by him and he gives it one swing but to the astonishment of the man the mosquito keeps flying. He said: “How come you’re the best swordsman alive while you couldn’t hit the mosquito” Mr. Swordy said: “You can spit on my grave if this mosquito gets more children”\n",
      "\n",
      "Vow of silence\n",
      "A woman joins a convent, and as part of her induction, she takes a vow of silence, other than prayer.  Mother Superior makes this quite clear, and says other than at times such as this, where she is required to speak to new Sisters, there are very few exceptions, and normally only once per year are the Sisters allowed to speak, and then minimally.  The new sister agrees to everything, and begins her new, silent life.  After a year, Mother Superior lets the new sister know she will get 2 words during her anniversary day.  Sister considers carefully, and after a few minutes contemplation, says to Mother Superior, \"Cold Food.\"  Mother Superior nods, and dismisses Sister.  The next year, after a few moments, the 2 words Sister chooses are, \"Hard Bed.\"  Again, Mother Superior nods, and dismisses Sister.  The 3rd year, Sister is ready as soon as Mother Superior says it's time, and blurts out, \"I Quit!\"  Mother Superior says, \"Well, I'm not surprised, you've done nothing but bitch since you got here!\"\n",
      "\n",
      "I just read that book written by the guy who was mauled by a grizzly. His name is\n",
      "Claude Meearmoff\n",
      "\n",
      "An old man goes to confession\n",
      "An old man goes to confession. He kneels down and says \"Bless me, father, for I have sinned. Last night, I had carnal relations with a nineteen-year-old girl.\"  The priest pauses. \"And how long has it been since your last confession?\"  \"I've never been here before.\"  \"How is this your first confession?\"  \"I'm Jewish.\"  \"Then... why are you telling me this?\"  \"Telling you? I'm telling everyone!\"\n",
      "\n",
      "The Cowboy’s Final Wishes\n",
      "In 1881, in the Wild West, a cowboy is captured by a tribe of Native Americans and tied to a pole to be executed. The Natives ask the cowboy if he has any final wishes, the cowboy asks to speak to his horse one last time and set him free, and to hold off the execution until Sunday, since he wanted to die on a holy day.  The Natives grant this, the cowboy whispers some things to his horse, then lets him go. The horse gallops far away and out of sight. As Sunday approached, the horse returned, and on his back was a stunning, gorgeous blonde with the face of an angel and the body a man could only dream of. The horse stopped in front of the cowboy, and the cowboy yelled at his horse: “You deaf bastard, I told you to come back with my posse! POSSE!”\n",
      "\n",
      "How did Dairy Queen get pregnant?\n",
      "Burger King forgot to wrap his whopper\n",
      "\n",
      "Carrots are good for your eyes\n",
      "But booze will double your vision\n",
      "\n"
     ]
    }
   ],
   "source": [
    "subreddit = reddit.subreddit(\"Jokes\")\n",
    "posts_generator = subreddit.hot(limit=10)\n",
    "for post in posts_generator:\n",
    "    print(f\"{post.title}\"+ \"\\n\" + f\"{post.selftext}\".replace('\\n', ' ') + \"\\n\")"
   ]
  },
  {
   "cell_type": "code",
   "execution_count": null,
   "metadata": {},
   "outputs": [],
   "source": []
  }
 ],
 "metadata": {
  "kernelspec": {
   "display_name": "Python 3",
   "language": "python",
   "name": "python3"
  },
  "language_info": {
   "codemirror_mode": {
    "name": "ipython",
    "version": 3
   },
   "file_extension": ".py",
   "mimetype": "text/x-python",
   "name": "python",
   "nbconvert_exporter": "python",
   "pygments_lexer": "ipython3",
   "version": "3.11.7"
  }
 },
 "nbformat": 4,
 "nbformat_minor": 2
}
