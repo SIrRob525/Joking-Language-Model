{
 "cells": [
  {
   "cell_type": "markdown",
   "metadata": {},
   "source": [
    "# Parsing the data"
   ]
  },
  {
   "cell_type": "markdown",
   "metadata": {},
   "source": [
    "Initially the idea was to use Reddit API to parse all posts r/Jokes"
   ]
  },
  {
   "cell_type": "code",
   "execution_count": 13,
   "metadata": {},
   "outputs": [],
   "source": [
    "import praw\n",
    "import numpy as np\n",
    "import pandas as pd\n",
    "import json\n",
    "import pickle\n",
    "import os\n",
    "from tqdm import tqdm\n",
    "from pprint import pprint\n",
    "import csv\n",
    "import textwrap"
   ]
  },
  {
   "cell_type": "code",
   "execution_count": 14,
   "metadata": {},
   "outputs": [],
   "source": [
    "with open(\"config_local.json\", \"r\") as f:\n",
    "    data = json.load(f)\n",
    "    client_id = data[\"client_id\"]\n",
    "    client_secret = data[\"client_secret\"]\n",
    "    user_agent = data[\"user_agent\"]"
   ]
  },
  {
   "cell_type": "code",
   "execution_count": 15,
   "metadata": {},
   "outputs": [],
   "source": [
    "reddit = praw.Reddit(\n",
    "    client_id=client_id,\n",
    "    client_secret=client_secret,\n",
    "    user_agent=user_agent\n",
    ")"
   ]
  },
  {
   "cell_type": "code",
   "execution_count": 16,
   "metadata": {},
   "outputs": [],
   "source": [
    "def update_batches(filename: str, fieldname: str, value: int):\n",
    "    with open(filename, \"r\") as f:\n",
    "        data = json.load(f)\n",
    "\n",
    "    data[fieldname] = data[fieldname] + value\n",
    "\n",
    "    with open(filename, \"w\") as f:\n",
    "        json.dump(data, f)"
   ]
  },
  {
   "cell_type": "code",
   "execution_count": 25,
   "metadata": {},
   "outputs": [
    {
     "name": "stdout",
     "output_type": "stream",
     "text": [
      "Sad News: The founder of /r/jokes has passed away\n",
      "RIP Larry Tesler, the UI designer that created Cut, Copy and Paste, died age 74\n",
      "\n",
      "Calm down about the Net Neutrality thing...\n",
      "Paying additional money to access certain sites will give you a sense of pride\n",
      "and accomplishment.\n",
      "\n",
      "V\n",
      "V  *Edit: seems like the ctrl key on my keyboard is not working\n",
      "\n",
      "If your surprised that Jeffrey Epstein commited suicide this morning\n",
      "Imagine how surprised he must have been.  Edit: Thank you to the Redditors that\n",
      "awarded this post. To everybody else I’m sorry I typed your instead of you’re.\n",
      "\n",
      "A new Navy recruit has his first day on the submarine...\n",
      "He speaks with the officer, who assigns him his post.  \"Go stand at the\n",
      "periscope entry-way, and make sure no unauthorized personnel touch the\n",
      "periscope.\"  The recruit follows orders, and stands by the periscope. After 15\n",
      "minutes, the officer stops by.  \"Son I'm changing your post to the mess hall. Go\n",
      "in there and start washing some dishes.\"  The recruit obeys, and heads to the\n",
      "mess hall. He's cleaned about 3 dishes when the officer walks up again.  \"Listen\n",
      "here recruit, your new post is in the supply room. I need you to make sure\n",
      "everything is strapped down tight, in case of rough waters.\"  The recruit again\n",
      "follows orders, and heads off to the supply room. There, he sees a crewman,\n",
      "moving some boxes.  \"Hey there,\" says the recruit. \"is it normal to keep getting\n",
      "reassigned to new posts all day? I haven't kept one position for more than 15\n",
      "minutes!\"  The crewman says \"Oh yeah- this sub is full of reposts.\"\n",
      "\n",
      "What did the reddit user say after detonating a bomb inside a bank?\n",
      "EDIT: Wow! This blew up! Thanks for the gold!\n",
      "\n",
      "The only two white actors in Black Panther are Martin Freeman, who played Bilbo Baggins, and Andy Serkis who played Gollum.\n",
      "They're the Tolkien white guys.  Edit: Apparently somebody posted this joke to\n",
      "Twitter in October and that makes me a piece of shit.  ¯\\\\\\_(ツ)_/¯\n",
      "\n",
      "Ajit Pai.\n",
      "That's it. That's the whole fucking joke.  EDIT: Removed edits, people don't\n",
      "like those. [](/rdcry)\n",
      "\n",
      "The 2016 US Presidential Election\n",
      "That's it. That's the entire fucking joke.\n",
      "\n",
      "How many Trump supporters does it take to change a lightbulb?\n",
      "None. Trump says it’s done and they all cheer in the dark.\n",
      "\n"
     ]
    }
   ],
   "source": [
    "subreddit = reddit.subreddit(\"Jokes\")\n",
    "posts_generator = subreddit.top(limit=10)\n",
    "for post in posts_generator:\n",
    "    print(f\"{post.title}\"+ \"\\n\" + textwrap.fill(post.selftext, 80) + \"\\n\")"
   ]
  },
  {
   "cell_type": "markdown",
   "metadata": {},
   "source": [
    "Unfortunately, it turned Reddit API removed the feature to parse all posts from a subreddit. However, I found the dataset (https://github.com/orionw/rJokesData) which contains just the data I need.  "
   ]
  },
  {
   "cell_type": "code",
   "execution_count": 34,
   "metadata": {},
   "outputs": [
    {
     "data": {
      "text/plain": [
       "756810132.040112"
      ]
     },
     "execution_count": 34,
     "metadata": {},
     "output_type": "execute_result"
    }
   ],
   "source": [
    "import datetime\n",
    "from dateutil.relativedelta import relativedelta\n",
    "\n",
    "(datetime.datetime.now() - relativedelta(years=30)).timestamp()"
   ]
  },
  {
   "cell_type": "code",
   "execution_count": 42,
   "metadata": {},
   "outputs": [
    {
     "data": {
      "text/html": [
       "<div>\n",
       "<style scoped>\n",
       "    .dataframe tbody tr th:only-of-type {\n",
       "        vertical-align: middle;\n",
       "    }\n",
       "\n",
       "    .dataframe tbody tr th {\n",
       "        vertical-align: top;\n",
       "    }\n",
       "\n",
       "    .dataframe thead th {\n",
       "        text-align: right;\n",
       "    }\n",
       "</style>\n",
       "<table border=\"1\" class=\"dataframe\">\n",
       "  <thead>\n",
       "    <tr style=\"text-align: right;\">\n",
       "      <th></th>\n",
       "      <th>joke</th>\n",
       "      <th>body</th>\n",
       "      <th>punchline</th>\n",
       "      <th>score</th>\n",
       "      <th>date</th>\n",
       "    </tr>\n",
       "  </thead>\n",
       "  <tbody>\n",
       "  </tbody>\n",
       "</table>\n",
       "</div>"
      ],
      "text/plain": [
       "Empty DataFrame\n",
       "Columns: [joke, body, punchline, score, date]\n",
       "Index: []"
      ]
     },
     "execution_count": 42,
     "metadata": {},
     "output_type": "execute_result"
    }
   ],
   "source": [
    "df = pd.read_csv(\"rJokesData/data/preprocessed.csv\")\n",
    "df[df[\"date\"] > 1577923200]"
   ]
  },
  {
   "cell_type": "code",
   "execution_count": null,
   "metadata": {},
   "outputs": [],
   "source": []
  }
 ],
 "metadata": {
  "kernelspec": {
   "display_name": "Python 3",
   "language": "python",
   "name": "python3"
  },
  "language_info": {
   "codemirror_mode": {
    "name": "ipython",
    "version": 3
   },
   "file_extension": ".py",
   "mimetype": "text/x-python",
   "name": "python",
   "nbconvert_exporter": "python",
   "pygments_lexer": "ipython3",
   "version": "3.11.7"
  }
 },
 "nbformat": 4,
 "nbformat_minor": 2
}
