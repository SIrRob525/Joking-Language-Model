{
 "cells": [
  {
   "cell_type": "code",
   "execution_count": 1,
   "metadata": {},
   "outputs": [],
   "source": [
    "import random\n",
    "\n",
    "import numpy as np\n",
    "import pandas as pd\n",
    "import matplotlib.pyplot as plt\n",
    "from nltk.tokenize import RegexpTokenizer\n",
    "\n",
    "import torch\n",
    "from torch import nn\n",
    "\n",
    "import textwrap"
   ]
  },
  {
   "cell_type": "code",
   "execution_count": 2,
   "metadata": {},
   "outputs": [
    {
     "data": {
      "text/html": [
       "<div>\n",
       "<style scoped>\n",
       "    .dataframe tbody tr th:only-of-type {\n",
       "        vertical-align: middle;\n",
       "    }\n",
       "\n",
       "    .dataframe tbody tr th {\n",
       "        vertical-align: top;\n",
       "    }\n",
       "\n",
       "    .dataframe thead th {\n",
       "        text-align: right;\n",
       "    }\n",
       "</style>\n",
       "<table border=\"1\" class=\"dataframe\">\n",
       "  <thead>\n",
       "    <tr style=\"text-align: right;\">\n",
       "      <th></th>\n",
       "      <th>joke</th>\n",
       "      <th>body</th>\n",
       "      <th>punchline</th>\n",
       "      <th>score</th>\n",
       "      <th>date</th>\n",
       "    </tr>\n",
       "  </thead>\n",
       "  <tbody>\n",
       "    <tr>\n",
       "      <th>5940</th>\n",
       "      <td>Divorce Mickey Mouse was fed up and wanted a d...</td>\n",
       "      <td>Mickey Mouse was fed up and wanted a divorce f...</td>\n",
       "      <td>Divorce</td>\n",
       "      <td>426.0</td>\n",
       "      <td>1.329663e+09</td>\n",
       "    </tr>\n",
       "    <tr>\n",
       "      <th>35557</th>\n",
       "      <td>If Apple made cars... ...would they have Windo...</td>\n",
       "      <td>...would they have Windows installed?</td>\n",
       "      <td>If Apple made cars...</td>\n",
       "      <td>13.0</td>\n",
       "      <td>1.390346e+09</td>\n",
       "    </tr>\n",
       "    <tr>\n",
       "      <th>269598</th>\n",
       "      <td>Mao Zedong once said that there are only two g...</td>\n",
       "      <td>Male and abortion.</td>\n",
       "      <td>Mao Zedong once said that there are only two g...</td>\n",
       "      <td>99.0</td>\n",
       "      <td>1.490855e+09</td>\n",
       "    </tr>\n",
       "    <tr>\n",
       "      <th>223061</th>\n",
       "      <td>The sky's the limit... But not when you're an ...</td>\n",
       "      <td>But not when you're an astronaut.</td>\n",
       "      <td>The sky's the limit...</td>\n",
       "      <td>1.0</td>\n",
       "      <td>1.478890e+09</td>\n",
       "    </tr>\n",
       "    <tr>\n",
       "      <th>270484</th>\n",
       "      <td>john wick walks into a bar Two red necks immed...</td>\n",
       "      <td>Two red necks immediately get on his case,he t...</td>\n",
       "      <td>john wick walks into a bar</td>\n",
       "      <td>1.0</td>\n",
       "      <td>1.491120e+09</td>\n",
       "    </tr>\n",
       "  </tbody>\n",
       "</table>\n",
       "</div>"
      ],
      "text/plain": [
       "                                                     joke  \\\n",
       "5940    Divorce Mickey Mouse was fed up and wanted a d...   \n",
       "35557   If Apple made cars... ...would they have Windo...   \n",
       "269598  Mao Zedong once said that there are only two g...   \n",
       "223061  The sky's the limit... But not when you're an ...   \n",
       "270484  john wick walks into a bar Two red necks immed...   \n",
       "\n",
       "                                                     body  \\\n",
       "5940    Mickey Mouse was fed up and wanted a divorce f...   \n",
       "35557               ...would they have Windows installed?   \n",
       "269598                                 Male and abortion.   \n",
       "223061                  But not when you're an astronaut.   \n",
       "270484  Two red necks immediately get on his case,he t...   \n",
       "\n",
       "                                                punchline  score          date  \n",
       "5940                                              Divorce  426.0  1.329663e+09  \n",
       "35557                               If Apple made cars...   13.0  1.390346e+09  \n",
       "269598  Mao Zedong once said that there are only two g...   99.0  1.490855e+09  \n",
       "223061                             The sky's the limit...    1.0  1.478890e+09  \n",
       "270484                         john wick walks into a bar    1.0  1.491120e+09  "
      ]
     },
     "execution_count": 2,
     "metadata": {},
     "output_type": "execute_result"
    }
   ],
   "source": [
    "df = pd.read_csv(\"rJokesData/data/preprocessed.csv\")\n",
    "df.sample(5)"
   ]
  },
  {
   "cell_type": "code",
   "execution_count": 3,
   "metadata": {},
   "outputs": [
    {
     "data": {
      "text/html": [
       "<div>\n",
       "<style scoped>\n",
       "    .dataframe tbody tr th:only-of-type {\n",
       "        vertical-align: middle;\n",
       "    }\n",
       "\n",
       "    .dataframe tbody tr th {\n",
       "        vertical-align: top;\n",
       "    }\n",
       "\n",
       "    .dataframe thead th {\n",
       "        text-align: right;\n",
       "    }\n",
       "</style>\n",
       "<table border=\"1\" class=\"dataframe\">\n",
       "  <thead>\n",
       "    <tr style=\"text-align: right;\">\n",
       "      <th></th>\n",
       "      <th>joke</th>\n",
       "      <th>body</th>\n",
       "      <th>punchline</th>\n",
       "      <th>score</th>\n",
       "      <th>date</th>\n",
       "    </tr>\n",
       "  </thead>\n",
       "  <tbody>\n",
       "    <tr>\n",
       "      <th>178</th>\n",
       "      <td>I hope you're all getting your Walter Cronkite...</td>\n",
       "      <td>Here's mine. \\n\\nEd McMahon, David Carradine, ...</td>\n",
       "      <td>I hope you're all getting your Walter Cronkite...</td>\n",
       "      <td>8.0</td>\n",
       "      <td>1.246240e+09</td>\n",
       "    </tr>\n",
       "    <tr>\n",
       "      <th>182</th>\n",
       "      <td>What is the only thing a woman can say that wi...</td>\n",
       "      <td>\"Your dick is bigger than your brother's.\"</td>\n",
       "      <td>What is the only thing a woman can say that wi...</td>\n",
       "      <td>24.0</td>\n",
       "      <td>1.247151e+09</td>\n",
       "    </tr>\n",
       "    <tr>\n",
       "      <th>184</th>\n",
       "      <td>What do scientists use to measure a chicken's ...</td>\n",
       "      <td>An egg timer</td>\n",
       "      <td>What do scientists use to measure a chicken's ...</td>\n",
       "      <td>0.0</td>\n",
       "      <td>1.247210e+09</td>\n",
       "    </tr>\n",
       "    <tr>\n",
       "      <th>189</th>\n",
       "      <td>Two Gay guys are lying on their bed... Two gay...</td>\n",
       "      <td>Two gay guys are lying on their bed.  The firs...</td>\n",
       "      <td>Two Gay guys are lying on their bed...</td>\n",
       "      <td>0.0</td>\n",
       "      <td>1.247510e+09</td>\n",
       "    </tr>\n",
       "    <tr>\n",
       "      <th>193</th>\n",
       "      <td>At 12:01 after midnight... At 12:01 after midn...</td>\n",
       "      <td>At 12:01 after midnight, on a cloudy evening, ...</td>\n",
       "      <td>At 12:01 after midnight...</td>\n",
       "      <td>0.0</td>\n",
       "      <td>1.248463e+09</td>\n",
       "    </tr>\n",
       "  </tbody>\n",
       "</table>\n",
       "</div>"
      ],
      "text/plain": [
       "                                                  joke  \\\n",
       "178  I hope you're all getting your Walter Cronkite...   \n",
       "182  What is the only thing a woman can say that wi...   \n",
       "184  What do scientists use to measure a chicken's ...   \n",
       "189  Two Gay guys are lying on their bed... Two gay...   \n",
       "193  At 12:01 after midnight... At 12:01 after midn...   \n",
       "\n",
       "                                                  body  \\\n",
       "178  Here's mine. \\n\\nEd McMahon, David Carradine, ...   \n",
       "182        \"Your dick is bigger than your brother's.\"    \n",
       "184                                       An egg timer   \n",
       "189  Two gay guys are lying on their bed.  The firs...   \n",
       "193  At 12:01 after midnight, on a cloudy evening, ...   \n",
       "\n",
       "                                             punchline  score          date  \n",
       "178  I hope you're all getting your Walter Cronkite...    8.0  1.246240e+09  \n",
       "182  What is the only thing a woman can say that wi...   24.0  1.247151e+09  \n",
       "184  What do scientists use to measure a chicken's ...    0.0  1.247210e+09  \n",
       "189             Two Gay guys are lying on their bed...    0.0  1.247510e+09  \n",
       "193                         At 12:01 after midnight...    0.0  1.248463e+09  "
      ]
     },
     "execution_count": 3,
     "metadata": {},
     "output_type": "execute_result"
    }
   ],
   "source": [
    "df = df.dropna(axis=0)\n",
    "df.head()"
   ]
  },
  {
   "cell_type": "code",
   "execution_count": 4,
   "metadata": {},
   "outputs": [
    {
     "name": "stdout",
     "output_type": "stream",
     "text": [
      "100000\n",
      "I hope you're all getting your Walter Cronkite jokes in order. He's next.\n",
      "Here's mine.   Ed McMahon, David Carradine, Farrah Fawcett, Michael Jackson,\n",
      "Billy Mays, and Walter Cronkite walk into a bar.   And die.   Your turn.  What\n",
      "is the only thing a woman can say that will make a man feel both happ\n"
     ]
    }
   ],
   "source": [
    "text = \" \".join(list(df.loc[:, \"joke\"]))[:100000]\n",
    "print(len(text))\n",
    "print(textwrap.fill(text[:300], 80))"
   ]
  },
  {
   "cell_type": "code",
   "execution_count": 5,
   "metadata": {},
   "outputs": [
    {
     "name": "stdout",
     "output_type": "stream",
     "text": [
      "['i', 'hope', 'you', 're', 'all', 'getting', 'your', 'walter', 'cronkite', 'jokes', 'in', 'order', 'he', 's', 'next', 'here', 's', 'mine', 'ed', 'mcmahon', 'david', 'carradine', 'farrah', 'fawcett', 'michael', 'jackson', 'billy', 'mays', 'and', 'walter']\n",
      "18764\n"
     ]
    }
   ],
   "source": [
    "tokenizer = RegexpTokenizer(r'\\w+')\n",
    "tokens = tokenizer.tokenize(text.lower())\n",
    "print(tokens[:30])\n",
    "print(len(tokens))"
   ]
  },
  {
   "cell_type": "code",
   "execution_count": null,
   "metadata": {},
   "outputs": [
    {
     "ename": "",
     "evalue": "",
     "output_type": "error",
     "traceback": [
      "\u001b[1;31mThe Kernel crashed while executing code in the the current cell or a previous cell. Please review the code in the cell(s) to identify a possible cause of the failure. Click <a href='https://aka.ms/vscodeJupyterKernelCrash'>here</a> for more info. View Jupyter <a href='command:jupyter.viewOutput'>log</a> for further details."
     ]
    }
   ],
   "source": [
    "print(1)"
   ]
  },
  {
   "cell_type": "code",
   "execution_count": null,
   "metadata": {},
   "outputs": [],
   "source": []
  },
  {
   "cell_type": "code",
   "execution_count": null,
   "metadata": {},
   "outputs": [],
   "source": []
  }
 ],
 "metadata": {
  "kernelspec": {
   "display_name": "Python 3",
   "language": "python",
   "name": "python3"
  },
  "language_info": {
   "codemirror_mode": {
    "name": "ipython",
    "version": 3
   },
   "file_extension": ".py",
   "mimetype": "text/x-python",
   "name": "python",
   "nbconvert_exporter": "python",
   "pygments_lexer": "ipython3",
   "version": "3.9.6"
  },
  "orig_nbformat": 4
 },
 "nbformat": 4,
 "nbformat_minor": 2
}
