{
 "cells": [
  {
   "cell_type": "code",
   "execution_count": 3,
   "metadata": {},
   "outputs": [],
   "source": [
    "import random\n",
    "\n",
    "import numpy as np\n",
    "import pandas as pd\n",
    "import matplotlib.pyplot as plt\n",
    "from nltk.tokenize import RegexpTokenizer\n",
    "\n",
    "import torch\n",
    "from torch import nn\n",
    "from torchsummary import summary\n",
    "from torch.utils.data import DataLoader\n",
    "from sklearn.model_selection import train_test_split\n",
    "\n",
    "import textwrap\n",
    "from tqdm import tqdm\n",
    "from pprint import pprint"
   ]
  },
  {
   "cell_type": "code",
   "execution_count": 4,
   "metadata": {},
   "outputs": [
    {
     "data": {
      "text/html": [
       "<div>\n",
       "<style scoped>\n",
       "    .dataframe tbody tr th:only-of-type {\n",
       "        vertical-align: middle;\n",
       "    }\n",
       "\n",
       "    .dataframe tbody tr th {\n",
       "        vertical-align: top;\n",
       "    }\n",
       "\n",
       "    .dataframe thead th {\n",
       "        text-align: right;\n",
       "    }\n",
       "</style>\n",
       "<table border=\"1\" class=\"dataframe\">\n",
       "  <thead>\n",
       "    <tr style=\"text-align: right;\">\n",
       "      <th></th>\n",
       "      <th>joke</th>\n",
       "      <th>body</th>\n",
       "      <th>punchline</th>\n",
       "      <th>score</th>\n",
       "      <th>date</th>\n",
       "    </tr>\n",
       "  </thead>\n",
       "  <tbody>\n",
       "    <tr>\n",
       "      <th>248826</th>\n",
       "      <td>My wife told me I might be suffering from prem...</td>\n",
       "      <td>I told her, 'does it look like I'm *suffering*...</td>\n",
       "      <td>My wife told me I might be suffering from prem...</td>\n",
       "      <td>1.0</td>\n",
       "      <td>1.485214e+09</td>\n",
       "    </tr>\n",
       "    <tr>\n",
       "      <th>442449</th>\n",
       "      <td>What did the Burger king yell, at his employee...</td>\n",
       "      <td>Cook that as fast as you can! That's an order!</td>\n",
       "      <td>What did the Burger king yell, at his employee...</td>\n",
       "      <td>0.0</td>\n",
       "      <td>1.544049e+09</td>\n",
       "    </tr>\n",
       "    <tr>\n",
       "      <th>454341</th>\n",
       "      <td>Just left the dr. and its official: they have ...</td>\n",
       "      <td>My friends are sad because i can only kick it ...</td>\n",
       "      <td>Just left the dr. and its official: they have ...</td>\n",
       "      <td>2.0</td>\n",
       "      <td>1.547156e+09</td>\n",
       "    </tr>\n",
       "    <tr>\n",
       "      <th>273843</th>\n",
       "      <td>What's the difference between women and the mo...</td>\n",
       "      <td>When the moon waxes, people notice</td>\n",
       "      <td>What's the difference between women and the moon?</td>\n",
       "      <td>1.0</td>\n",
       "      <td>1.492093e+09</td>\n",
       "    </tr>\n",
       "    <tr>\n",
       "      <th>379420</th>\n",
       "      <td>Jeffery was having trouble with his computer. ...</td>\n",
       "      <td>So he called John, the 25-year-old next door n...</td>\n",
       "      <td>Jeffery was having trouble with his computer.</td>\n",
       "      <td>5.0</td>\n",
       "      <td>1.525202e+09</td>\n",
       "    </tr>\n",
       "  </tbody>\n",
       "</table>\n",
       "</div>"
      ],
      "text/plain": [
       "                                                     joke  \\\n",
       "248826  My wife told me I might be suffering from prem...   \n",
       "442449  What did the Burger king yell, at his employee...   \n",
       "454341  Just left the dr. and its official: they have ...   \n",
       "273843  What's the difference between women and the mo...   \n",
       "379420  Jeffery was having trouble with his computer. ...   \n",
       "\n",
       "                                                     body  \\\n",
       "248826  I told her, 'does it look like I'm *suffering*...   \n",
       "442449     Cook that as fast as you can! That's an order!   \n",
       "454341  My friends are sad because i can only kick it ...   \n",
       "273843                 When the moon waxes, people notice   \n",
       "379420  So he called John, the 25-year-old next door n...   \n",
       "\n",
       "                                                punchline  score          date  \n",
       "248826  My wife told me I might be suffering from prem...    1.0  1.485214e+09  \n",
       "442449  What did the Burger king yell, at his employee...    0.0  1.544049e+09  \n",
       "454341  Just left the dr. and its official: they have ...    2.0  1.547156e+09  \n",
       "273843  What's the difference between women and the moon?    1.0  1.492093e+09  \n",
       "379420      Jeffery was having trouble with his computer.    5.0  1.525202e+09  "
      ]
     },
     "execution_count": 4,
     "metadata": {},
     "output_type": "execute_result"
    }
   ],
   "source": [
    "df = pd.read_csv(\"rJokesData/data/preprocessed.csv\")\n",
    "df.sample(5)"
   ]
  },
  {
   "cell_type": "code",
   "execution_count": 5,
   "metadata": {},
   "outputs": [
    {
     "data": {
      "text/html": [
       "<div>\n",
       "<style scoped>\n",
       "    .dataframe tbody tr th:only-of-type {\n",
       "        vertical-align: middle;\n",
       "    }\n",
       "\n",
       "    .dataframe tbody tr th {\n",
       "        vertical-align: top;\n",
       "    }\n",
       "\n",
       "    .dataframe thead th {\n",
       "        text-align: right;\n",
       "    }\n",
       "</style>\n",
       "<table border=\"1\" class=\"dataframe\">\n",
       "  <thead>\n",
       "    <tr style=\"text-align: right;\">\n",
       "      <th></th>\n",
       "      <th>joke</th>\n",
       "      <th>body</th>\n",
       "      <th>punchline</th>\n",
       "      <th>score</th>\n",
       "      <th>date</th>\n",
       "    </tr>\n",
       "  </thead>\n",
       "  <tbody>\n",
       "    <tr>\n",
       "      <th>178</th>\n",
       "      <td>I hope you're all getting your Walter Cronkite...</td>\n",
       "      <td>Here's mine. \\n\\nEd McMahon, David Carradine, ...</td>\n",
       "      <td>I hope you're all getting your Walter Cronkite...</td>\n",
       "      <td>8.0</td>\n",
       "      <td>1.246240e+09</td>\n",
       "    </tr>\n",
       "    <tr>\n",
       "      <th>182</th>\n",
       "      <td>What is the only thing a woman can say that wi...</td>\n",
       "      <td>\"Your dick is bigger than your brother's.\"</td>\n",
       "      <td>What is the only thing a woman can say that wi...</td>\n",
       "      <td>24.0</td>\n",
       "      <td>1.247151e+09</td>\n",
       "    </tr>\n",
       "    <tr>\n",
       "      <th>184</th>\n",
       "      <td>What do scientists use to measure a chicken's ...</td>\n",
       "      <td>An egg timer</td>\n",
       "      <td>What do scientists use to measure a chicken's ...</td>\n",
       "      <td>0.0</td>\n",
       "      <td>1.247210e+09</td>\n",
       "    </tr>\n",
       "    <tr>\n",
       "      <th>189</th>\n",
       "      <td>Two Gay guys are lying on their bed... Two gay...</td>\n",
       "      <td>Two gay guys are lying on their bed.  The firs...</td>\n",
       "      <td>Two Gay guys are lying on their bed...</td>\n",
       "      <td>0.0</td>\n",
       "      <td>1.247510e+09</td>\n",
       "    </tr>\n",
       "    <tr>\n",
       "      <th>193</th>\n",
       "      <td>At 12:01 after midnight... At 12:01 after midn...</td>\n",
       "      <td>At 12:01 after midnight, on a cloudy evening, ...</td>\n",
       "      <td>At 12:01 after midnight...</td>\n",
       "      <td>0.0</td>\n",
       "      <td>1.248463e+09</td>\n",
       "    </tr>\n",
       "  </tbody>\n",
       "</table>\n",
       "</div>"
      ],
      "text/plain": [
       "                                                  joke  \\\n",
       "178  I hope you're all getting your Walter Cronkite...   \n",
       "182  What is the only thing a woman can say that wi...   \n",
       "184  What do scientists use to measure a chicken's ...   \n",
       "189  Two Gay guys are lying on their bed... Two gay...   \n",
       "193  At 12:01 after midnight... At 12:01 after midn...   \n",
       "\n",
       "                                                  body  \\\n",
       "178  Here's mine. \\n\\nEd McMahon, David Carradine, ...   \n",
       "182        \"Your dick is bigger than your brother's.\"    \n",
       "184                                       An egg timer   \n",
       "189  Two gay guys are lying on their bed.  The firs...   \n",
       "193  At 12:01 after midnight, on a cloudy evening, ...   \n",
       "\n",
       "                                             punchline  score          date  \n",
       "178  I hope you're all getting your Walter Cronkite...    8.0  1.246240e+09  \n",
       "182  What is the only thing a woman can say that wi...   24.0  1.247151e+09  \n",
       "184  What do scientists use to measure a chicken's ...    0.0  1.247210e+09  \n",
       "189             Two Gay guys are lying on their bed...    0.0  1.247510e+09  \n",
       "193                         At 12:01 after midnight...    0.0  1.248463e+09  "
      ]
     },
     "execution_count": 5,
     "metadata": {},
     "output_type": "execute_result"
    }
   ],
   "source": [
    "df = df.dropna(axis=0)\n",
    "df.head()"
   ]
  },
  {
   "cell_type": "code",
   "execution_count": 6,
   "metadata": {},
   "outputs": [],
   "source": [
    "n_context = 10"
   ]
  },
  {
   "cell_type": "code",
   "execution_count": 7,
   "metadata": {},
   "outputs": [
    {
     "name": "stdout",
     "output_type": "stream",
     "text": [
      "154828313\n",
      "I hope you're all getting your Walter Cronkite jokes in order. He's next.\n",
      "Here's mine.   Ed McMahon, David Carradine, Farrah Fawcett, Michael Jackson,\n",
      "Billy Mays, and Walter Cronkite walk into a bar.   And die.   Your turn.  #  #\n",
      "#  #  #  #  #  #  #  # What is the only thing a woman can say that w\n"
     ]
    }
   ],
   "source": [
    "text = (\" # \" * n_context).join(list(df.loc[:, \"joke\"]))\n",
    "print(len(text))\n",
    "print(textwrap.fill(text[:300], 80))"
   ]
  },
  {
   "cell_type": "code",
   "execution_count": 37,
   "metadata": {},
   "outputs": [
    {
     "name": "stdout",
     "output_type": "stream",
     "text": [
      "['david', 'carradine', 'farrah', 'fawcett', 'michael', 'jackson', 'billy', 'mays', 'and', 'walter', 'cronkite', 'walk', 'into', 'a', 'bar', 'and', 'die', 'your', 'turn', '#', '#', '#', '#', '#', '#', '#', '#', '#', '#', 'what']\n",
      "32106460\n"
     ]
    }
   ],
   "source": [
    "tokenizer = RegexpTokenizer(r'\\w+|#')\n",
    "tokens = tokenizer.tokenize(text.lower())\n",
    "print(tokens[20:50])\n",
    "print(len(tokens))"
   ]
  },
  {
   "cell_type": "code",
   "execution_count": 38,
   "metadata": {},
   "outputs": [],
   "source": [
    "tokens = tokens[:10000] #NOTE: for test purposes"
   ]
  },
  {
   "cell_type": "code",
   "execution_count": 39,
   "metadata": {},
   "outputs": [
    {
     "name": "stdout",
     "output_type": "stream",
     "text": [
      "2026\n"
     ]
    }
   ],
   "source": [
    "unique_tokens = set(tokens)\n",
    "tokens_dict = {word: i for i, word in enumerate(unique_tokens)}\n",
    "print(len(unique_tokens))"
   ]
  },
  {
   "cell_type": "code",
   "execution_count": 40,
   "metadata": {},
   "outputs": [
    {
     "name": "stderr",
     "output_type": "stream",
     "text": [
      "100%|██████████| 9990/9990 [00:00<00:00, 362525.82it/s]\n"
     ]
    }
   ],
   "source": [
    "input_words = []\n",
    "next_words = []\n",
    "for i in tqdm(range(len(tokens) - n_context)):\n",
    "    input_words.append(tokens[i:i+n_context])\n",
    "    next_words.append(tokens[i+n_context])"
   ]
  },
  {
   "cell_type": "code",
   "execution_count": 41,
   "metadata": {},
   "outputs": [
    {
     "name": "stdout",
     "output_type": "stream",
     "text": [
      "[['jackson',\n",
      "  'billy',\n",
      "  'mays',\n",
      "  'and',\n",
      "  'walter',\n",
      "  'cronkite',\n",
      "  'walk',\n",
      "  'into',\n",
      "  'a',\n",
      "  'bar'],\n",
      " ['billy',\n",
      "  'mays',\n",
      "  'and',\n",
      "  'walter',\n",
      "  'cronkite',\n",
      "  'walk',\n",
      "  'into',\n",
      "  'a',\n",
      "  'bar',\n",
      "  'and'],\n",
      " ['mays',\n",
      "  'and',\n",
      "  'walter',\n",
      "  'cronkite',\n",
      "  'walk',\n",
      "  'into',\n",
      "  'a',\n",
      "  'bar',\n",
      "  'and',\n",
      "  'die'],\n",
      " ['and',\n",
      "  'walter',\n",
      "  'cronkite',\n",
      "  'walk',\n",
      "  'into',\n",
      "  'a',\n",
      "  'bar',\n",
      "  'and',\n",
      "  'die',\n",
      "  'your'],\n",
      " ['walter',\n",
      "  'cronkite',\n",
      "  'walk',\n",
      "  'into',\n",
      "  'a',\n",
      "  'bar',\n",
      "  'and',\n",
      "  'die',\n",
      "  'your',\n",
      "  'turn']]\n",
      "['and', 'die', 'your', 'turn', '#']\n"
     ]
    }
   ],
   "source": [
    "pprint(input_words[25:30])\n",
    "pprint(next_words[25:30])"
   ]
  },
  {
   "cell_type": "code",
   "execution_count": 42,
   "metadata": {},
   "outputs": [
    {
     "name": "stderr",
     "output_type": "stream",
     "text": [
      "100%|██████████| 9990/9990 [00:00<00:00, 112404.99it/s]\n"
     ]
    }
   ],
   "source": [
    "X = np.zeros(shape=(len(input_words), n_context, len(tokens_dict)), dtype=bool)\n",
    "y = np.zeros(shape=(len(input_words), len(tokens_dict)), dtype=bool)\n",
    "\n",
    "for i, words in enumerate(tqdm(input_words)):\n",
    "    for j, word in enumerate(words):\n",
    "        X[i, j, tokens_dict[words[j]]] = 1\n",
    "    y[i, tokens_dict[next_words[i]]] = 1"
   ]
  },
  {
   "cell_type": "code",
   "execution_count": 47,
   "metadata": {},
   "outputs": [],
   "source": [
    "device = torch.device(\"cuda\" if torch.cuda.is_available() else \"cpu\")\n",
    "device\n",
    "\n",
    "\n",
    "class extract_tensor(nn.Module):\n",
    "    def forward(self,x):\n",
    "        # Output shape (batch, features, hidden)\n",
    "        tensor, _ = x\n",
    "        # Reshape shape (batch, hidden)\n",
    "        return tensor[:, -1, :]\n",
    "    \n",
    "\n",
    "model = nn.Sequential(\n",
    "    nn.LSTM(input_size=len(unique_tokens), hidden_size=256, num_layers=2, batch_first=True),\n",
    "    extract_tensor(),\n",
    "    nn.Linear(in_features=256, out_features=len(unique_tokens)),\n",
    "    nn.Softmax(dim=1)\n",
    ").to(device)"
   ]
  },
  {
   "cell_type": "code",
   "execution_count": 48,
   "metadata": {},
   "outputs": [],
   "source": [
    "def run(model, dataloader, loss_function, optimizer=None):\n",
    "    # set the model to evaluation or training mode\n",
    "    if optimizer == None:\n",
    "        model.eval()\n",
    "    else:\n",
    "        model.train()\n",
    "\n",
    "    total_loss = 0\n",
    "\n",
    "    for X, y in dataloader:\n",
    "        X = X.to(device)\n",
    "        y = y.to(device)\n",
    "        # compute prediction\n",
    "        pred = model(X)\n",
    "        # compute loss\n",
    "        loss = loss_function(pred, y)\n",
    "        # save loss\n",
    "        total_loss += loss.item()\n",
    "        if optimizer != None:\n",
    "            # compute gradients\n",
    "            loss.backward()\n",
    "            # do optimizer step\n",
    "            optimizer.step()\n",
    "            # clear gradients\n",
    "            optimizer.zero_grad()\n",
    "\n",
    "    return total_loss / len(dataloader)"
   ]
  },
  {
   "cell_type": "code",
   "execution_count": 49,
   "metadata": {},
   "outputs": [],
   "source": [
    "from IPython.display import clear_output\n",
    "\n",
    "def show_losses(train_loss_hist, test_loss_hist):\n",
    "    clear_output()\n",
    "\n",
    "    plt.figure(figsize=(12,4))\n",
    "\n",
    "    plt.subplot(1, 2, 1)\n",
    "    plt.title('Train Loss')\n",
    "    plt.plot(np.arange(len(train_loss_hist)), train_loss_hist)\n",
    "    plt.yscale('log')\n",
    "    plt.grid()\n",
    "\n",
    "    plt.subplot(1, 2, 2)\n",
    "    plt.title('Test Loss')\n",
    "    plt.plot(np.arange(len(test_loss_hist)), test_loss_hist)\n",
    "    plt.yscale('log')\n",
    "    plt.grid()\n",
    "\n",
    "    plt.show()"
   ]
  },
  {
   "cell_type": "code",
   "execution_count": 51,
   "metadata": {},
   "outputs": [
    {
     "data": {
      "image/png": "[encoded data removed]",
      "text/plain": [
       "<Figure size 1200x400 with 2 Axes>"
      ]
     },
     "metadata": {},
     "output_type": "display_data"
    },
    {
     "ename": "KeyboardInterrupt",
     "evalue": "",
     "output_type": "error",
     "traceback": [
      "\u001b[1;31m---------------------------------------------------------------------------\u001b[0m",
      "\u001b[1;31mKeyboardInterrupt\u001b[0m                         Traceback (most recent call last)",
      "Cell \u001b[1;32mIn[51], line 17\u001b[0m\n\u001b[0;32m     14\u001b[0m test_loss_hist \u001b[38;5;241m=\u001b[39m []\n\u001b[0;32m     16\u001b[0m \u001b[38;5;28;01mfor\u001b[39;00m i \u001b[38;5;129;01min\u001b[39;00m \u001b[38;5;28mrange\u001b[39m(NUM_EPOCHS):\n\u001b[1;32m---> 17\u001b[0m     train_loss \u001b[38;5;241m=\u001b[39m \u001b[43mrun\u001b[49m\u001b[43m(\u001b[49m\u001b[43mmodel\u001b[49m\u001b[43m,\u001b[49m\u001b[43m \u001b[49m\u001b[43mtrain_loader\u001b[49m\u001b[43m,\u001b[49m\u001b[43m \u001b[49m\u001b[43mloss_function\u001b[49m\u001b[43m,\u001b[49m\u001b[43m \u001b[49m\u001b[43moptimizer\u001b[49m\u001b[43m)\u001b[49m\n\u001b[0;32m     18\u001b[0m     train_loss_hist\u001b[38;5;241m.\u001b[39mappend(train_loss)\n\u001b[0;32m     19\u001b[0m     test_loss \u001b[38;5;241m=\u001b[39m run(model, valid_loader, loss_function)\n",
      "Cell \u001b[1;32mIn[48], line 10\u001b[0m, in \u001b[0;36mrun\u001b[1;34m(model, dataloader, loss_function, optimizer)\u001b[0m\n\u001b[0;32m      6\u001b[0m     model\u001b[38;5;241m.\u001b[39mtrain()\n\u001b[0;32m      8\u001b[0m total_loss \u001b[38;5;241m=\u001b[39m \u001b[38;5;241m0\u001b[39m\n\u001b[1;32m---> 10\u001b[0m \u001b[43m\u001b[49m\u001b[38;5;28;43;01mfor\u001b[39;49;00m\u001b[43m \u001b[49m\u001b[43mX\u001b[49m\u001b[43m,\u001b[49m\u001b[43m \u001b[49m\u001b[43my\u001b[49m\u001b[43m \u001b[49m\u001b[38;5;129;43;01min\u001b[39;49;00m\u001b[43m \u001b[49m\u001b[43mdataloader\u001b[49m\u001b[43m:\u001b[49m\n\u001b[0;32m     11\u001b[0m \u001b[43m    \u001b[49m\u001b[43mX\u001b[49m\u001b[43m \u001b[49m\u001b[38;5;241;43m=\u001b[39;49m\u001b[43m \u001b[49m\u001b[43mX\u001b[49m\u001b[38;5;241;43m.\u001b[39;49m\u001b[43mto\u001b[49m\u001b[43m(\u001b[49m\u001b[43mdevice\u001b[49m\u001b[43m)\u001b[49m\n\u001b[0;32m     12\u001b[0m \u001b[43m    \u001b[49m\u001b[43my\u001b[49m\u001b[43m \u001b[49m\u001b[38;5;241;43m=\u001b[39;49m\u001b[43m \u001b[49m\u001b[43my\u001b[49m\u001b[38;5;241;43m.\u001b[39;49m\u001b[43mto\u001b[49m\u001b[43m(\u001b[49m\u001b[43mdevice\u001b[49m\u001b[43m)\u001b[49m\n",
      "File \u001b[1;32m~\\AppData\\Local\\Packages\\PythonSoftwareFoundation.Python.3.11_qbz5n2kfra8p0\\LocalCache\\local-packages\\Python311\\site-packages\\torch\\utils\\data\\dataloader.py:626\u001b[0m, in \u001b[0;36m_BaseDataLoaderIter.__next__\u001b[1;34m(self)\u001b[0m\n\u001b[0;32m    625\u001b[0m \u001b[38;5;28;01mdef\u001b[39;00m \u001b[38;5;21m__next__\u001b[39m(\u001b[38;5;28mself\u001b[39m) \u001b[38;5;241m-\u001b[39m\u001b[38;5;241m>\u001b[39m Any:\n\u001b[1;32m--> 626\u001b[0m \u001b[43m    \u001b[49m\u001b[38;5;28;43;01mwith\u001b[39;49;00m\u001b[43m \u001b[49m\u001b[43mtorch\u001b[49m\u001b[38;5;241;43m.\u001b[39;49m\u001b[43mautograd\u001b[49m\u001b[38;5;241;43m.\u001b[39;49m\u001b[43mprofiler\u001b[49m\u001b[38;5;241;43m.\u001b[39;49m\u001b[43mrecord_function\u001b[49m\u001b[43m(\u001b[49m\u001b[38;5;28;43mself\u001b[39;49m\u001b[38;5;241;43m.\u001b[39;49m\u001b[43m_profile_name\u001b[49m\u001b[43m)\u001b[49m\u001b[43m:\u001b[49m\n\u001b[0;32m    627\u001b[0m \u001b[43m        \u001b[49m\u001b[38;5;28;43;01mif\u001b[39;49;00m\u001b[43m \u001b[49m\u001b[38;5;28;43mself\u001b[39;49m\u001b[38;5;241;43m.\u001b[39;49m\u001b[43m_sampler_iter\u001b[49m\u001b[43m \u001b[49m\u001b[38;5;129;43;01mis\u001b[39;49;00m\u001b[43m \u001b[49m\u001b[38;5;28;43;01mNone\u001b[39;49;00m\u001b[43m:\u001b[49m\n\u001b[0;32m    628\u001b[0m \u001b[43m            \u001b[49m\u001b[38;5;66;43;03m# TODO(https://github.com/pytorch/pytorch/issues/76750)\u001b[39;49;00m\n\u001b[0;32m    629\u001b[0m \u001b[43m            \u001b[49m\u001b[38;5;28;43mself\u001b[39;49m\u001b[38;5;241;43m.\u001b[39;49m\u001b[43m_reset\u001b[49m\u001b[43m(\u001b[49m\u001b[43m)\u001b[49m\u001b[43m  \u001b[49m\u001b[38;5;66;43;03m# type: ignore[call-arg]\u001b[39;49;00m\n",
      "File \u001b[1;32m~\\AppData\\Local\\Packages\\PythonSoftwareFoundation.Python.3.11_qbz5n2kfra8p0\\LocalCache\\local-packages\\Python311\\site-packages\\torch\\autograd\\profiler.py:648\u001b[0m, in \u001b[0;36mrecord_function.__exit__\u001b[1;34m(self, exc_type, exc_value, traceback)\u001b[0m\n\u001b[0;32m    646\u001b[0m \u001b[38;5;28;01mif\u001b[39;00m \u001b[38;5;129;01mnot\u001b[39;00m torch\u001b[38;5;241m.\u001b[39mjit\u001b[38;5;241m.\u001b[39mis_scripting():\n\u001b[0;32m    647\u001b[0m     \u001b[38;5;28;01mwith\u001b[39;00m torch\u001b[38;5;241m.\u001b[39m_C\u001b[38;5;241m.\u001b[39mDisableTorchFunctionSubclass():\n\u001b[1;32m--> 648\u001b[0m         \u001b[43mtorch\u001b[49m\u001b[38;5;241;43m.\u001b[39;49m\u001b[43mops\u001b[49m\u001b[38;5;241;43m.\u001b[39;49m\u001b[43mprofiler\u001b[49m\u001b[38;5;241;43m.\u001b[39;49m\u001b[43m_record_function_exit\u001b[49m\u001b[38;5;241;43m.\u001b[39;49m\u001b[43m_RecordFunction\u001b[49m\u001b[43m(\u001b[49m\u001b[43mrecord\u001b[49m\u001b[43m)\u001b[49m\n\u001b[0;32m    649\u001b[0m \u001b[38;5;28;01melse\u001b[39;00m:\n\u001b[0;32m    650\u001b[0m     torch\u001b[38;5;241m.\u001b[39mops\u001b[38;5;241m.\u001b[39mprofiler\u001b[38;5;241m.\u001b[39m_record_function_exit(record)\n",
      "File \u001b[1;32m~\\AppData\\Local\\Packages\\PythonSoftwareFoundation.Python.3.11_qbz5n2kfra8p0\\LocalCache\\local-packages\\Python311\\site-packages\\torch\\_ops.py:448\u001b[0m, in \u001b[0;36mOpOverload.__call__\u001b[1;34m(self, *args, **kwargs)\u001b[0m\n\u001b[0;32m    447\u001b[0m \u001b[38;5;28;01mdef\u001b[39;00m \u001b[38;5;21m__call__\u001b[39m(\u001b[38;5;28mself\u001b[39m, \u001b[38;5;241m*\u001b[39margs, \u001b[38;5;241m*\u001b[39m\u001b[38;5;241m*\u001b[39mkwargs):\n\u001b[1;32m--> 448\u001b[0m     \u001b[38;5;28;01mreturn\u001b[39;00m \u001b[38;5;28;43mself\u001b[39;49m\u001b[38;5;241;43m.\u001b[39;49m\u001b[43m_op\u001b[49m\u001b[43m(\u001b[49m\u001b[38;5;241;43m*\u001b[39;49m\u001b[43margs\u001b[49m\u001b[43m,\u001b[49m\u001b[43m \u001b[49m\u001b[38;5;241;43m*\u001b[39;49m\u001b[38;5;241;43m*\u001b[39;49m\u001b[43mkwargs\u001b[49m\u001b[43m \u001b[49m\u001b[38;5;129;43;01mor\u001b[39;49;00m\u001b[43m \u001b[49m\u001b[43m{\u001b[49m\u001b[43m}\u001b[49m\u001b[43m)\u001b[49m\n",
      "\u001b[1;31mKeyboardInterrupt\u001b[0m: "
     ]
    }
   ],
   "source": [
    "BATCH_SIZE = 100\n",
    "NUM_EPOCHS = 100\n",
    "\n",
    "data = list(zip(X.astype('float32'), y.astype('float32')))\n",
    "train_dataset, valid_dataset = train_test_split(data, test_size=0.2)\n",
    "\n",
    "train_loader = DataLoader(train_dataset, batch_size=BATCH_SIZE)\n",
    "valid_loader = DataLoader(valid_dataset, batch_size=BATCH_SIZE)\n",
    "\n",
    "loss_function = torch.nn.CrossEntropyLoss()\n",
    "optimizer = torch.optim.SGD(model.parameters(), lr=0.001)\n",
    "\n",
    "train_loss_hist = []\n",
    "test_loss_hist = []\n",
    "\n",
    "for i in range(NUM_EPOCHS):\n",
    "    train_loss = run(model, train_loader, loss_function, optimizer)\n",
    "    train_loss_hist.append(train_loss)\n",
    "    test_loss = run(model, valid_loader, loss_function)\n",
    "    test_loss_hist.append(test_loss)\n",
    "\n",
    "    if i % 10 == 9:\n",
    "        show_losses(train_loss_hist, test_loss_hist)"
   ]
  },
  {
   "cell_type": "code",
   "execution_count": null,
   "metadata": {},
   "outputs": [],
   "source": []
  }
 ],
 "metadata": {
  "kernelspec": {
   "display_name": "Python 3",
   "language": "python",
   "name": "python3"
  },
  "language_info": {
   "codemirror_mode": {
    "name": "ipython",
    "version": 3
   },
   "file_extension": ".py",
   "mimetype": "text/x-python",
   "name": "python",
   "nbconvert_exporter": "python",
   "pygments_lexer": "ipython3",
   "version": "3.9.6"
  },
  "orig_nbformat": 4
 },
 "nbformat": 4,
 "nbformat_minor": 2
}
