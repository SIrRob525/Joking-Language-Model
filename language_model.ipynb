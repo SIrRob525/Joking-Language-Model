{
 "cells": [
  {
   "cell_type": "code",
   "execution_count": 49,
   "metadata": {},
   "outputs": [],
   "source": [
    "import random\n",
    "\n",
    "import numpy as np\n",
    "import pandas as pd\n",
    "import matplotlib.pyplot as plt\n",
    "from nltk.tokenize import RegexpTokenizer\n",
    "\n",
    "import torch\n",
    "from torch import nn\n",
    "from torchsummary import summary\n",
    "from torch.utils.data import DataLoader\n",
    "from sklearn.model_selection import train_test_split\n",
    "\n",
    "import textwrap\n",
    "from tqdm import tqdm\n",
    "from pprint import pprint"
   ]
  },
  {
   "cell_type": "code",
   "execution_count": 4,
   "metadata": {},
   "outputs": [
    {
     "data": {
      "text/html": [
       "<div>\n",
       "<style scoped>\n",
       "    .dataframe tbody tr th:only-of-type {\n",
       "        vertical-align: middle;\n",
       "    }\n",
       "\n",
       "    .dataframe tbody tr th {\n",
       "        vertical-align: top;\n",
       "    }\n",
       "\n",
       "    .dataframe thead th {\n",
       "        text-align: right;\n",
       "    }\n",
       "</style>\n",
       "<table border=\"1\" class=\"dataframe\">\n",
       "  <thead>\n",
       "    <tr style=\"text-align: right;\">\n",
       "      <th></th>\n",
       "      <th>joke</th>\n",
       "      <th>body</th>\n",
       "      <th>punchline</th>\n",
       "      <th>score</th>\n",
       "      <th>date</th>\n",
       "    </tr>\n",
       "  </thead>\n",
       "  <tbody>\n",
       "    <tr>\n",
       "      <th>198942</th>\n",
       "      <td>What's Trump's favorite Olympic sport? Fencing!</td>\n",
       "      <td>Fencing!</td>\n",
       "      <td>What's Trump's favorite Olympic sport?</td>\n",
       "      <td>7.0</td>\n",
       "      <td>1.472245e+09</td>\n",
       "    </tr>\n",
       "    <tr>\n",
       "      <th>289297</th>\n",
       "      <td>A chicken and egg are lying in bed. The chicke...</td>\n",
       "      <td>The egg says to herself, \"I guess we answered ...</td>\n",
       "      <td>A chicken and egg are lying in bed. The chicke...</td>\n",
       "      <td>58.0</td>\n",
       "      <td>1.496402e+09</td>\n",
       "    </tr>\n",
       "    <tr>\n",
       "      <th>381020</th>\n",
       "      <td>A poor African man is walking across the deser...</td>\n",
       "      <td>He's lost, thirsty and completely hopeless. At...</td>\n",
       "      <td>A poor African man is walking across the desert</td>\n",
       "      <td>8.0</td>\n",
       "      <td>1.525686e+09</td>\n",
       "    </tr>\n",
       "    <tr>\n",
       "      <th>440631</th>\n",
       "      <td>What's brown and rhymes with snoop? Dr Dre</td>\n",
       "      <td>Dr Dre</td>\n",
       "      <td>What's brown and rhymes with snoop?</td>\n",
       "      <td>108.0</td>\n",
       "      <td>1.543570e+09</td>\n",
       "    </tr>\n",
       "    <tr>\n",
       "      <th>62652</th>\n",
       "      <td>Did you hear about the cannibal walking throug...</td>\n",
       "      <td>he passed his brother?</td>\n",
       "      <td>Did you hear about the cannibal walking throug...</td>\n",
       "      <td>0.0</td>\n",
       "      <td>1.417380e+09</td>\n",
       "    </tr>\n",
       "  </tbody>\n",
       "</table>\n",
       "</div>"
      ],
      "text/plain": [
       "                                                     joke  \\\n",
       "198942   What's Trump's favorite Olympic sport? Fencing!    \n",
       "289297  A chicken and egg are lying in bed. The chicke...   \n",
       "381020  A poor African man is walking across the deser...   \n",
       "440631        What's brown and rhymes with snoop? Dr Dre    \n",
       "62652   Did you hear about the cannibal walking throug...   \n",
       "\n",
       "                                                     body  \\\n",
       "198942                                          Fencing!    \n",
       "289297  The egg says to herself, \"I guess we answered ...   \n",
       "381020  He's lost, thirsty and completely hopeless. At...   \n",
       "440631                                            Dr Dre    \n",
       "62652                              he passed his brother?   \n",
       "\n",
       "                                                punchline  score          date  \n",
       "198942             What's Trump's favorite Olympic sport?    7.0  1.472245e+09  \n",
       "289297  A chicken and egg are lying in bed. The chicke...   58.0  1.496402e+09  \n",
       "381020    A poor African man is walking across the desert    8.0  1.525686e+09  \n",
       "440631                What's brown and rhymes with snoop?  108.0  1.543570e+09  \n",
       "62652   Did you hear about the cannibal walking throug...    0.0  1.417380e+09  "
      ]
     },
     "execution_count": 4,
     "metadata": {},
     "output_type": "execute_result"
    }
   ],
   "source": [
    "df = pd.read_csv(\"rJokesData/data/preprocessed.csv\")\n",
    "df.sample(5)"
   ]
  },
  {
   "cell_type": "code",
   "execution_count": 5,
   "metadata": {},
   "outputs": [
    {
     "data": {
      "text/html": [
       "<div>\n",
       "<style scoped>\n",
       "    .dataframe tbody tr th:only-of-type {\n",
       "        vertical-align: middle;\n",
       "    }\n",
       "\n",
       "    .dataframe tbody tr th {\n",
       "        vertical-align: top;\n",
       "    }\n",
       "\n",
       "    .dataframe thead th {\n",
       "        text-align: right;\n",
       "    }\n",
       "</style>\n",
       "<table border=\"1\" class=\"dataframe\">\n",
       "  <thead>\n",
       "    <tr style=\"text-align: right;\">\n",
       "      <th></th>\n",
       "      <th>joke</th>\n",
       "      <th>body</th>\n",
       "      <th>punchline</th>\n",
       "      <th>score</th>\n",
       "      <th>date</th>\n",
       "    </tr>\n",
       "  </thead>\n",
       "  <tbody>\n",
       "    <tr>\n",
       "      <th>178</th>\n",
       "      <td>I hope you're all getting your Walter Cronkite...</td>\n",
       "      <td>Here's mine. \\n\\nEd McMahon, David Carradine, ...</td>\n",
       "      <td>I hope you're all getting your Walter Cronkite...</td>\n",
       "      <td>8.0</td>\n",
       "      <td>1.246240e+09</td>\n",
       "    </tr>\n",
       "    <tr>\n",
       "      <th>182</th>\n",
       "      <td>What is the only thing a woman can say that wi...</td>\n",
       "      <td>\"Your dick is bigger than your brother's.\"</td>\n",
       "      <td>What is the only thing a woman can say that wi...</td>\n",
       "      <td>24.0</td>\n",
       "      <td>1.247151e+09</td>\n",
       "    </tr>\n",
       "    <tr>\n",
       "      <th>184</th>\n",
       "      <td>What do scientists use to measure a chicken's ...</td>\n",
       "      <td>An egg timer</td>\n",
       "      <td>What do scientists use to measure a chicken's ...</td>\n",
       "      <td>0.0</td>\n",
       "      <td>1.247210e+09</td>\n",
       "    </tr>\n",
       "    <tr>\n",
       "      <th>189</th>\n",
       "      <td>Two Gay guys are lying on their bed... Two gay...</td>\n",
       "      <td>Two gay guys are lying on their bed.  The firs...</td>\n",
       "      <td>Two Gay guys are lying on their bed...</td>\n",
       "      <td>0.0</td>\n",
       "      <td>1.247510e+09</td>\n",
       "    </tr>\n",
       "    <tr>\n",
       "      <th>193</th>\n",
       "      <td>At 12:01 after midnight... At 12:01 after midn...</td>\n",
       "      <td>At 12:01 after midnight, on a cloudy evening, ...</td>\n",
       "      <td>At 12:01 after midnight...</td>\n",
       "      <td>0.0</td>\n",
       "      <td>1.248463e+09</td>\n",
       "    </tr>\n",
       "  </tbody>\n",
       "</table>\n",
       "</div>"
      ],
      "text/plain": [
       "                                                  joke  \\\n",
       "178  I hope you're all getting your Walter Cronkite...   \n",
       "182  What is the only thing a woman can say that wi...   \n",
       "184  What do scientists use to measure a chicken's ...   \n",
       "189  Two Gay guys are lying on their bed... Two gay...   \n",
       "193  At 12:01 after midnight... At 12:01 after midn...   \n",
       "\n",
       "                                                  body  \\\n",
       "178  Here's mine. \\n\\nEd McMahon, David Carradine, ...   \n",
       "182        \"Your dick is bigger than your brother's.\"    \n",
       "184                                       An egg timer   \n",
       "189  Two gay guys are lying on their bed.  The firs...   \n",
       "193  At 12:01 after midnight, on a cloudy evening, ...   \n",
       "\n",
       "                                             punchline  score          date  \n",
       "178  I hope you're all getting your Walter Cronkite...    8.0  1.246240e+09  \n",
       "182  What is the only thing a woman can say that wi...   24.0  1.247151e+09  \n",
       "184  What do scientists use to measure a chicken's ...    0.0  1.247210e+09  \n",
       "189             Two Gay guys are lying on their bed...    0.0  1.247510e+09  \n",
       "193                         At 12:01 after midnight...    0.0  1.248463e+09  "
      ]
     },
     "execution_count": 5,
     "metadata": {},
     "output_type": "execute_result"
    }
   ],
   "source": [
    "df = df.dropna(axis=0)\n",
    "df.head()"
   ]
  },
  {
   "cell_type": "code",
   "execution_count": 6,
   "metadata": {},
   "outputs": [],
   "source": [
    "n_context = 10"
   ]
  },
  {
   "cell_type": "code",
   "execution_count": 7,
   "metadata": {},
   "outputs": [
    {
     "name": "stdout",
     "output_type": "stream",
     "text": [
      "154828313\n",
      "I hope you're all getting your Walter Cronkite jokes in order. He's next.\n",
      "Here's mine.   Ed McMahon, David Carradine, Farrah Fawcett, Michael Jackson,\n",
      "Billy Mays, and Walter Cronkite walk into a bar.   And die.   Your turn.  #  #\n",
      "#  #  #  #  #  #  #  # What is the only thing a woman can say that w\n"
     ]
    }
   ],
   "source": [
    "text = (\" # \" * n_context).join(list(df.loc[:, \"joke\"]))\n",
    "print(len(text))\n",
    "print(textwrap.fill(text[:300], 80))"
   ]
  },
  {
   "cell_type": "code",
   "execution_count": 8,
   "metadata": {},
   "outputs": [
    {
     "name": "stdout",
     "output_type": "stream",
     "text": [
      "['david', 'carradine', 'farrah', 'fawcett', 'michael', 'jackson', 'billy', 'mays', 'and', 'walter', 'cronkite', 'walk', 'into', 'a', 'bar', 'and', 'die', 'your', 'turn', '#', '#', '#', '#', '#', '#', '#', '#', '#', '#', 'what']\n",
      "32106460\n"
     ]
    }
   ],
   "source": [
    "tokenizer = RegexpTokenizer(r'\\w+|#')\n",
    "tokens = tokenizer.tokenize(text.lower())\n",
    "print(tokens[20:50])\n",
    "print(len(tokens))\n",
    "\n",
    "tokens = tokens[:10000] #NOTE: for test purposes"
   ]
  },
  {
   "cell_type": "code",
   "execution_count": 9,
   "metadata": {},
   "outputs": [],
   "source": [
    "unique_tokens = set(tokens)\n",
    "tokens_dict = {word: i for i, word in enumerate(unique_tokens)}"
   ]
  },
  {
   "cell_type": "code",
   "execution_count": 10,
   "metadata": {},
   "outputs": [
    {
     "name": "stderr",
     "output_type": "stream",
     "text": [
      "100%|██████████| 9990/9990 [00:00<00:00, 1360513.57it/s]\n"
     ]
    }
   ],
   "source": [
    "input_words = []\n",
    "next_words = []\n",
    "for i in tqdm(range(len(tokens) - n_context)):\n",
    "    input_words.append(tokens[i:i+n_context])\n",
    "    next_words.append(tokens[i+n_context])"
   ]
  },
  {
   "cell_type": "code",
   "execution_count": 11,
   "metadata": {},
   "outputs": [
    {
     "name": "stdout",
     "output_type": "stream",
     "text": [
      "[['jackson',\n",
      "  'billy',\n",
      "  'mays',\n",
      "  'and',\n",
      "  'walter',\n",
      "  'cronkite',\n",
      "  'walk',\n",
      "  'into',\n",
      "  'a',\n",
      "  'bar'],\n",
      " ['billy',\n",
      "  'mays',\n",
      "  'and',\n",
      "  'walter',\n",
      "  'cronkite',\n",
      "  'walk',\n",
      "  'into',\n",
      "  'a',\n",
      "  'bar',\n",
      "  'and'],\n",
      " ['mays',\n",
      "  'and',\n",
      "  'walter',\n",
      "  'cronkite',\n",
      "  'walk',\n",
      "  'into',\n",
      "  'a',\n",
      "  'bar',\n",
      "  'and',\n",
      "  'die'],\n",
      " ['and',\n",
      "  'walter',\n",
      "  'cronkite',\n",
      "  'walk',\n",
      "  'into',\n",
      "  'a',\n",
      "  'bar',\n",
      "  'and',\n",
      "  'die',\n",
      "  'your'],\n",
      " ['walter',\n",
      "  'cronkite',\n",
      "  'walk',\n",
      "  'into',\n",
      "  'a',\n",
      "  'bar',\n",
      "  'and',\n",
      "  'die',\n",
      "  'your',\n",
      "  'turn']]\n",
      "['and', 'die', 'your', 'turn', '#']\n"
     ]
    }
   ],
   "source": [
    "pprint(input_words[25:30])\n",
    "pprint(next_words[25:30])"
   ]
  },
  {
   "cell_type": "code",
   "execution_count": 112,
   "metadata": {},
   "outputs": [
    {
     "name": "stderr",
     "output_type": "stream",
     "text": [
      "100%|██████████| 9990/9990 [00:00<00:00, 166900.07it/s]\n"
     ]
    }
   ],
   "source": [
    "X = np.zeros(shape=(len(input_words), n_context, len(tokens_dict)), dtype=bool)\n",
    "y = np.zeros(shape=(len(input_words), len(tokens_dict)), dtype=bool)\n",
    "\n",
    "for i, words in enumerate(tqdm(input_words)):\n",
    "    for j, word in enumerate(words):\n",
    "        X[i, j, tokens_dict[words[j]]] = 1\n",
    "    y[i, tokens_dict[next_words[i]]] = 1"
   ]
  },
  {
   "cell_type": "code",
   "execution_count": 113,
   "metadata": {},
   "outputs": [],
   "source": [
    "device = torch.device(\"cuda\" if torch.cuda.is_available() else \"cpu\")\n",
    "device\n",
    "\n",
    "\n",
    "class extract_tensor(nn.Module):\n",
    "    def forward(self,x):\n",
    "        # Output shape (batch, features, hidden)\n",
    "        tensor, _ = x\n",
    "        # Reshape shape (batch, hidden)\n",
    "        return tensor[:, -1, :]\n",
    "    \n",
    "\n",
    "model = nn.Sequential(\n",
    "    nn.LSTM(input_size=len(unique_tokens), hidden_size=128, num_layers=2, batch_first=True),\n",
    "    extract_tensor(),\n",
    "    nn.Linear(in_features=128, out_features=len(unique_tokens)),\n",
    "    nn.Softmax(dim=1)\n",
    ").to(device)"
   ]
  },
  {
   "cell_type": "code",
   "execution_count": 114,
   "metadata": {},
   "outputs": [],
   "source": [
    "def run(model, dataloader, loss_function, optimizer=None):\n",
    "    # set the model to evaluation or training mode\n",
    "    if optimizer == None:\n",
    "        model.eval()\n",
    "    else:\n",
    "        model.train()\n",
    "\n",
    "    total_loss = 0\n",
    "\n",
    "    for X, y in dataloader:\n",
    "        # compute prediction\n",
    "        pred = model(X)\n",
    "        # compute loss\n",
    "        loss = loss_function(pred, y)\n",
    "        # save loss\n",
    "        total_loss += loss.item()\n",
    "        if optimizer != None:\n",
    "            # compute gradients\n",
    "            loss.backward()\n",
    "            # do optimizer step\n",
    "            optimizer.step()\n",
    "            # clear gradients\n",
    "            optimizer.zero_grad()\n",
    "\n",
    "    return total_loss / len(dataloader)"
   ]
  },
  {
   "cell_type": "code",
   "execution_count": 115,
   "metadata": {},
   "outputs": [],
   "source": [
    "from IPython.display import clear_output\n",
    "\n",
    "def show_losses(train_loss_hist, test_loss_hist):\n",
    "    clear_output()\n",
    "\n",
    "    plt.figure(figsize=(12,4))\n",
    "\n",
    "    plt.subplot(1, 2, 1)\n",
    "    plt.title('Train Loss')\n",
    "    plt.plot(np.arange(len(train_loss_hist)), train_loss_hist)\n",
    "    plt.yscale('log')\n",
    "    plt.grid()\n",
    "\n",
    "    plt.subplot(1, 2, 2)\n",
    "    plt.title('Test Loss')\n",
    "    plt.plot(np.arange(len(test_loss_hist)), test_loss_hist)\n",
    "    plt.yscale('log')\n",
    "    plt.grid()\n",
    "\n",
    "    plt.show()"
   ]
  },
  {
   "cell_type": "code",
   "execution_count": 117,
   "metadata": {},
   "outputs": [
    {
     "data": {
      "image/png": "[encoded data removed]",
      "text/plain": [
       "<Figure size 1200x400 with 2 Axes>"
      ]
     },
     "metadata": {},
     "output_type": "display_data"
    },
    {
     "ename": "KeyboardInterrupt",
     "evalue": "",
     "output_type": "error",
     "traceback": [
      "\u001b[0;31m---------------------------------------------------------------------------\u001b[0m",
      "\u001b[0;31mKeyboardInterrupt\u001b[0m                         Traceback (most recent call last)",
      "\u001b[1;32m/Users/fadeevaaleksandra/Desktop/Joking-Language-Model/language_model.ipynb Ячейка 14\u001b[0m line \u001b[0;36m1\n\u001b[1;32m     <a href='vscode-notebook-cell:/Users/fadeevaaleksandra/Desktop/Joking-Language-Model/language_model.ipynb#X21sZmlsZQ%3D%3D?line=13'>14</a>\u001b[0m test_loss_hist \u001b[39m=\u001b[39m []\n\u001b[1;32m     <a href='vscode-notebook-cell:/Users/fadeevaaleksandra/Desktop/Joking-Language-Model/language_model.ipynb#X21sZmlsZQ%3D%3D?line=15'>16</a>\u001b[0m \u001b[39mfor\u001b[39;00m i \u001b[39min\u001b[39;00m \u001b[39mrange\u001b[39m(NUM_EPOCHS):\n\u001b[0;32m---> <a href='vscode-notebook-cell:/Users/fadeevaaleksandra/Desktop/Joking-Language-Model/language_model.ipynb#X21sZmlsZQ%3D%3D?line=16'>17</a>\u001b[0m     train_loss \u001b[39m=\u001b[39m run(model, train_loader, loss_function, optimizer)\n\u001b[1;32m     <a href='vscode-notebook-cell:/Users/fadeevaaleksandra/Desktop/Joking-Language-Model/language_model.ipynb#X21sZmlsZQ%3D%3D?line=17'>18</a>\u001b[0m     train_loss_hist\u001b[39m.\u001b[39mappend(train_loss)\n\u001b[1;32m     <a href='vscode-notebook-cell:/Users/fadeevaaleksandra/Desktop/Joking-Language-Model/language_model.ipynb#X21sZmlsZQ%3D%3D?line=18'>19</a>\u001b[0m     test_loss \u001b[39m=\u001b[39m run(model, valid_loader, loss_function)\n",
      "\u001b[1;32m/Users/fadeevaaleksandra/Desktop/Joking-Language-Model/language_model.ipynb Ячейка 14\u001b[0m line \u001b[0;36m1\n\u001b[1;32m     <a href='vscode-notebook-cell:/Users/fadeevaaleksandra/Desktop/Joking-Language-Model/language_model.ipynb#X21sZmlsZQ%3D%3D?line=15'>16</a>\u001b[0m total_loss \u001b[39m+\u001b[39m\u001b[39m=\u001b[39m loss\u001b[39m.\u001b[39mitem()\n\u001b[1;32m     <a href='vscode-notebook-cell:/Users/fadeevaaleksandra/Desktop/Joking-Language-Model/language_model.ipynb#X21sZmlsZQ%3D%3D?line=16'>17</a>\u001b[0m \u001b[39mif\u001b[39;00m optimizer \u001b[39m!=\u001b[39m \u001b[39mNone\u001b[39;00m:\n\u001b[1;32m     <a href='vscode-notebook-cell:/Users/fadeevaaleksandra/Desktop/Joking-Language-Model/language_model.ipynb#X21sZmlsZQ%3D%3D?line=17'>18</a>\u001b[0m     \u001b[39m# compute gradients\u001b[39;00m\n\u001b[0;32m---> <a href='vscode-notebook-cell:/Users/fadeevaaleksandra/Desktop/Joking-Language-Model/language_model.ipynb#X21sZmlsZQ%3D%3D?line=18'>19</a>\u001b[0m     loss\u001b[39m.\u001b[39;49mbackward()\n\u001b[1;32m     <a href='vscode-notebook-cell:/Users/fadeevaaleksandra/Desktop/Joking-Language-Model/language_model.ipynb#X21sZmlsZQ%3D%3D?line=19'>20</a>\u001b[0m     \u001b[39m# do optimizer step\u001b[39;00m\n\u001b[1;32m     <a href='vscode-notebook-cell:/Users/fadeevaaleksandra/Desktop/Joking-Language-Model/language_model.ipynb#X21sZmlsZQ%3D%3D?line=20'>21</a>\u001b[0m     optimizer\u001b[39m.\u001b[39mstep()\n",
      "File \u001b[0;32m~/Library/Python/3.9/lib/python/site-packages/torch/_tensor.py:492\u001b[0m, in \u001b[0;36mTensor.backward\u001b[0;34m(self, gradient, retain_graph, create_graph, inputs)\u001b[0m\n\u001b[1;32m    482\u001b[0m \u001b[39mif\u001b[39;00m has_torch_function_unary(\u001b[39mself\u001b[39m):\n\u001b[1;32m    483\u001b[0m     \u001b[39mreturn\u001b[39;00m handle_torch_function(\n\u001b[1;32m    484\u001b[0m         Tensor\u001b[39m.\u001b[39mbackward,\n\u001b[1;32m    485\u001b[0m         (\u001b[39mself\u001b[39m,),\n\u001b[0;32m   (...)\u001b[0m\n\u001b[1;32m    490\u001b[0m         inputs\u001b[39m=\u001b[39minputs,\n\u001b[1;32m    491\u001b[0m     )\n\u001b[0;32m--> 492\u001b[0m torch\u001b[39m.\u001b[39;49mautograd\u001b[39m.\u001b[39;49mbackward(\n\u001b[1;32m    493\u001b[0m     \u001b[39mself\u001b[39;49m, gradient, retain_graph, create_graph, inputs\u001b[39m=\u001b[39;49minputs\n\u001b[1;32m    494\u001b[0m )\n",
      "File \u001b[0;32m~/Library/Python/3.9/lib/python/site-packages/torch/autograd/__init__.py:251\u001b[0m, in \u001b[0;36mbackward\u001b[0;34m(tensors, grad_tensors, retain_graph, create_graph, grad_variables, inputs)\u001b[0m\n\u001b[1;32m    246\u001b[0m     retain_graph \u001b[39m=\u001b[39m create_graph\n\u001b[1;32m    248\u001b[0m \u001b[39m# The reason we repeat the same comment below is that\u001b[39;00m\n\u001b[1;32m    249\u001b[0m \u001b[39m# some Python versions print out the first line of a multi-line function\u001b[39;00m\n\u001b[1;32m    250\u001b[0m \u001b[39m# calls in the traceback and some print out the last line\u001b[39;00m\n\u001b[0;32m--> 251\u001b[0m Variable\u001b[39m.\u001b[39;49m_execution_engine\u001b[39m.\u001b[39;49mrun_backward(  \u001b[39m# Calls into the C++ engine to run the backward pass\u001b[39;49;00m\n\u001b[1;32m    252\u001b[0m     tensors,\n\u001b[1;32m    253\u001b[0m     grad_tensors_,\n\u001b[1;32m    254\u001b[0m     retain_graph,\n\u001b[1;32m    255\u001b[0m     create_graph,\n\u001b[1;32m    256\u001b[0m     inputs,\n\u001b[1;32m    257\u001b[0m     allow_unreachable\u001b[39m=\u001b[39;49m\u001b[39mTrue\u001b[39;49;00m,\n\u001b[1;32m    258\u001b[0m     accumulate_grad\u001b[39m=\u001b[39;49m\u001b[39mTrue\u001b[39;49;00m,\n\u001b[1;32m    259\u001b[0m )\n",
      "\u001b[0;31mKeyboardInterrupt\u001b[0m: "
     ]
    }
   ],
   "source": [
    "BATCH_SIZE = 100\n",
    "NUM_EPOCHS = 100\n",
    "\n",
    "data = list(zip(X.astype('float32'), y.astype('float32')))\n",
    "train_dataset, valid_dataset = train_test_split(data, test_size=0.2)\n",
    "\n",
    "train_loader = DataLoader(train_dataset, batch_size=BATCH_SIZE)\n",
    "valid_loader = DataLoader(valid_dataset, batch_size=BATCH_SIZE)\n",
    "\n",
    "loss_function = torch.nn.CrossEntropyLoss()\n",
    "optimizer = torch.optim.RMSprop(model.parameters(), lr=0.001)\n",
    "\n",
    "train_loss_hist = []\n",
    "test_loss_hist = []\n",
    "\n",
    "for i in range(NUM_EPOCHS):\n",
    "    train_loss = run(model, train_loader, loss_function, optimizer)\n",
    "    train_loss_hist.append(train_loss)\n",
    "    test_loss = run(model, valid_loader, loss_function)\n",
    "    test_loss_hist.append(test_loss)\n",
    "\n",
    "    if i % 10 == 9:\n",
    "        show_losses(train_loss_hist, test_loss_hist)"
   ]
  },
  {
   "cell_type": "code",
   "execution_count": null,
   "metadata": {},
   "outputs": [],
   "source": []
  }
 ],
 "metadata": {
  "kernelspec": {
   "display_name": "Python 3",
   "language": "python",
   "name": "python3"
  },
  "language_info": {
   "codemirror_mode": {
    "name": "ipython",
    "version": 3
   },
   "file_extension": ".py",
   "mimetype": "text/x-python",
   "name": "python",
   "nbconvert_exporter": "python",
   "pygments_lexer": "ipython3",
   "version": "3.9.6"
  },
  "orig_nbformat": 4
 },
 "nbformat": 4,
 "nbformat_minor": 2
}
